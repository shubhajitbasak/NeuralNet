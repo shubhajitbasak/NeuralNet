{
 "cells": [
  {
   "cell_type": "markdown",
   "metadata": {},
   "source": [
    "### A Deep Neural Network From Scratch Using Python"
   ]
  },
  {
   "cell_type": "markdown",
   "metadata": {},
   "source": [
    "### Part I \n",
    "#### A Shallow Neural Network with One Hidden Layer\n",
    "    "
   ]
  },
  {
   "cell_type": "markdown",
   "metadata": {},
   "source": [
    "Our human brain consists of 100 billion neurons connected together, if these neurons got sufficient inputs are given to any individual neuron it will fire the next neuron. The same can be modeled and we can create a neural network where each node is similar to the neurons. We can assign weights and bias at each neurons and layers so that the signals can progress through the layers which is known as forward propagation. Then at the final layer we calculate the loss with respect to the expected label and pass the error backward to different nodes to penalise the weights and other parameters, this process is known as backward propagation. Then we will keep iterating this process to change the weights of different layers until convergence.\n",
    "\n",
    "Following are the formulations and assumptions we made -\n",
    "\n",
    "* Input X will be a matrix of size (No Of Attributes, No of examples)\n",
    "* Output Y will be a matrix of size (1, No of Examples) - as we are only supporting one output node \n",
    "* We are constructing a single hidden layer shallow neural network  \n",
    "\n",
    "* For the final layer we are using signoid function to get the softmax value  \n",
    "\n",
    "* We are using **tanh** as the activation function for the hidden layer -\n",
    "\n",
    "$$ g(z) = tanh(z) = \\frac{e^z - e^{-z}}{e^z + e^{-z}} \\tag{1} $$\n",
    "\n",
    "    -  So through calculas we can show the derivative of tanh as -\n",
    "\n",
    "$$ {g}'(z) = 1 - {tanh(z)}^2 = 1 - {g(z)}^2 \\tag{2} $$\n",
    "\n",
    "\n",
    "* The **cost function** can be calculated from the following formula - \n",
    "\n",
    "$$ -\\frac{1}{m} \\sum\\limits_{i = 1}^{m}(y^{(i)}\\log\\left(a^{(i)}\\right) + (1-y^{(i)})\\log\\left(1- a^{(i)}\\right)) \\tag{3} $$\n",
    "\n",
    "* So the formulas for **forward propagation** will looks like considering X as input and Y as output -  \n",
    "\n",
    "\n",
    "    - Hidden Layer Input ->\n",
    "$$  Z^{(1)} = W^{(1)}X + b^{(1)} \\tag{4} $$\n",
    "\n",
    "    - Hidden Layer OutPut through Activation(tanh) function ->\n",
    "$$  A^{(1)} = g^{(1)}(Z^{(1)}) = tanh(Z^{(1)}) \\tag{5} $$\n",
    "\n",
    "    - Final Layer Input ->\n",
    "$$  Z^{(2)} = W^{(2)}A^{(1)} + b^{(2)} \\tag{6} $$\n",
    "\n",
    "    - Final Layer Output through Sigmoid ->\n",
    "$$  Y = A^{(2)} = g^{(2)}(Z^{(2)}) = sigmoid(Z^{(2)}) \\tag{7} $$\n",
    "\n",
    "\n",
    "* So the formulas for **back propagation** will looks like considering X as input and Y as output -\n",
    "\n",
    "\n",
    "    - differential For Final Layer -> \n",
    "$$  dZ^{(2)} = A^{(2)} - Y \\tag{8} $$\n",
    "\n",
    "    - weight differentials for Final Layer -> \n",
    "$$  dW^{(2)} = dZ^{(2)} (A^{(1)})^{T} \\tag{9} $$\n",
    "\n",
    "    - bias differentials for final layer -> \n",
    "$$ db^{(2)} = dZ^{(2)} \\tag{10} $$\n",
    "\n",
    "    - differentials for hidden layer output -> \n",
    "$$ dZ^{(1)} = (W^{(2)})^{(T)}dZ^{(2)} * {g^{(1)}}'(Z^{(1)}) \\tag{11}  $$ \n",
    "\n",
    "    - so from the formula (2) we can write \n",
    "$$ dZ^{(1)} = (W^{(2)})^{(T)}dZ^{(2)} * (1 - (g^{(1)}(Z))^{2}) = (W^{(2)})^{(T)}dZ^{(2)} * (1 - (A^{(1)})^{2}) \\tag{12} $$\n",
    "\n",
    "    - weight differentials for Hidden Layer ->\n",
    "$$ dW^{(1)} = dZ^{(1)} (X^{(1)})^{T} \\tag{13} $$\n",
    "\n",
    "    - bias differentials for Hidden layer -> \n",
    "$$ db^{(1)} = dZ^{(1)} \\tag{14} $$"
   ]
  },
  {
   "cell_type": "markdown",
   "metadata": {},
   "source": [
    "#### Implementation: "
   ]
  },
  {
   "cell_type": "code",
   "execution_count": 1,
   "metadata": {},
   "outputs": [],
   "source": [
    "import matplotlib.pyplot as plt\n",
    "import numpy as np\n",
    "from sklearn.model_selection import train_test_split\n",
    "import pandas as pd\n",
    "from sklearn.metrics import confusion_matrix\n",
    "from sklearn.metrics import classification_report\n",
    "from sklearn.metrics import accuracy_score\n",
    "import time\n",
    "import pandas as pd"
   ]
  },
  {
   "cell_type": "code",
   "execution_count": 2,
   "metadata": {},
   "outputs": [],
   "source": [
    "def sigmoid(x):\n",
    "    s = 1/(1+np.exp(-x))\n",
    "    return s\n",
    "\n",
    "def initialize_parameters(nx, nh, ny):\n",
    "\n",
    "    # Initialise the parameters with random value \n",
    "    # W1 -> (hiddenLayerSize, Input Attribute Count)\n",
    "    # b1 -> (hiddenLayerSize,1)\n",
    "    # W2 -> (OutPutLayerSize, HiddenLayerSize)\n",
    "    # b2 -> (OutPutLayerSize, 1)\n",
    "\n",
    "    # Initialise with random values for Weight\n",
    "    # Initialise with zeros for bias\n",
    "    W1 = np.random.randn(nh, nx) * 0.01\n",
    "    b1 = np.zeros(shape=(nh, 1))\n",
    "    W2 = np.random.randn(ny, nh) * 0.01\n",
    "    b2 = np.zeros(shape=(ny, 1))\n",
    "    \n",
    "    # Create a dictionary for parameters\n",
    "    parameters = {\"W1\": W1,\n",
    "                  \"b1\": b1,\n",
    "                  \"W2\": W2,\n",
    "                  \"b2\": b2}\n",
    "    \n",
    "    return parameters\n",
    "\n",
    "\n",
    "def forward_propagation(X, parameters):\n",
    "    # Input Param : Weight, Bias and Input X\n",
    "    # All the equations from (4) to (7) shown above has been implemented\n",
    "    \n",
    "    # Get each Parametrs from Param\n",
    "    W1 = parameters['W1']\n",
    "    b1 = parameters['b1']\n",
    "    W2 = parameters['W2']\n",
    "    b2 = parameters['b2']\n",
    "    \n",
    "    # Calculate Z1\n",
    "    Z1 = np.dot(W1, X) + b1\n",
    "    # Calculate Activation 1 with tanh\n",
    "    A1 = np.tanh(Z1)\n",
    "    # Calculate Z2\n",
    "    Z2 = np.dot(W2, A1) + b2\n",
    "    # Calculate Z2 with Sigmoid as this is the output layer\n",
    "    A2 = sigmoid(Z2)\n",
    "    \n",
    "    # Return Dictionary containing the Z and A values \n",
    "    # as it will be needed during back Propagation Calculation\n",
    "    forwards = {\"Z1\": Z1,\n",
    "                \"A1\": A1,\n",
    "                \"Z2\": Z2,\n",
    "                \"A2\": A2}\n",
    "    \n",
    "    return forwards\n",
    "\n",
    "def compute_cost(A2, Y):\n",
    "    \n",
    "    # Calculate the No Of Examples from the Actual Output  , params\n",
    "    m = Y.shape[1] # number of example\n",
    "    \n",
    "    # Get the cross Entropy to calculate the cost\n",
    "    # Formula 3 has been implemented here\n",
    "    logprobs = np.multiply(np.log(A2), Y) + np.multiply((1 - Y), np.log(1 - A2))\n",
    "    cost = - np.sum(logprobs) / m\n",
    "\n",
    "    # Change the dimension of cost to a single value from matrix\n",
    "    cost = np.squeeze(cost)     \n",
    "\n",
    "    return cost\n",
    "\n",
    "def back_propagation(params, forwards, X, Y):\n",
    "   \n",
    "    # Get the shape of the data\n",
    "    m = X.shape[1]\n",
    "    \n",
    "    # Get W1, W2, A1, A2 from params and forwards\n",
    "    W1 = params['W1']\n",
    "    W2 = params['W2']\n",
    "    A1 = forwards['A1']\n",
    "    A2 = forwards['A2']\n",
    "    \n",
    "    # Back Prop Calculation \n",
    "    # Calculate the Updated Gradients\n",
    "    # Formulas from (8) to (14)\n",
    "    dZ2= A2 - Y \n",
    "    dW2 = (1 / m) * np.dot(dZ2, np.transpose(A1))\n",
    "    db2 = (1 / m) * np.sum(dZ2, axis=1, keepdims=True)\n",
    "    dZ1 = np.multiply(np.dot(np.transpose(W2), dZ2), 1 - np.power(A1, 2)) # From Equation 12\n",
    "    dW1 = (1 / m) * np.dot(dZ1, np.transpose(X))\n",
    "    db1 = (1 / m) * np.sum(dZ1, axis=1, keepdims=True)\n",
    "    \n",
    "    gradients = {\"dW1\": dW1,\n",
    "                 \"db1\": db1,\n",
    "                 \"dW2\": dW2,\n",
    "                 \"db2\": db2}\n",
    "    \n",
    "    return gradients\n",
    "\n",
    "\n",
    "def update_parameters(parameters, grads, alpha=0.0075):\n",
    "    \n",
    "    # Update Parameters with Learning Rate\n",
    "    # alpha - learning rate\n",
    "    \n",
    "    # Get W1,b1,W2,b2 from parameters\n",
    "    W1 = parameters['W1']\n",
    "    b1 = parameters['b1']\n",
    "    W2 = parameters['W2']\n",
    "    b2 = parameters['b2']\n",
    "    \n",
    "    # get dW1, dW2, db1,db2 from grads\n",
    "    dW1 = grads['dW1']\n",
    "    db1 = grads['db1']\n",
    "    dW2 = grads['dW2']\n",
    "    db2 = grads['db2']\n",
    "    \n",
    "    # Calculate Updated Parameters with Gradient and Learning Rate\n",
    "    W1 = W1 - alpha * dW1\n",
    "    b1 = b1 - alpha * db1\n",
    "    W2 = W2 - alpha * dW2\n",
    "    b2 = b2 - alpha * db2\n",
    "    \n",
    "    parameters = {\"W1\": W1,\n",
    "                  \"b1\": b1,\n",
    "                  \"W2\": W2,\n",
    "                  \"b2\": b2}\n",
    "    \n",
    "    return parameters\n",
    "\n",
    "def model_1layer(X, Y, h, epochs=10000, alpha = 0.0075):\n",
    "    \n",
    "    nx = X.shape[0] # size of input layer\n",
    "    nh = h # Size of the hidden layer\n",
    "    ny = Y.shape[0] # size of output layer\n",
    "    \n",
    "    # Initialize parameters\n",
    "    parameters = initialize_parameters(nx, h, ny)\n",
    "    \n",
    "    # Get W1,b1,W2,b2 from parameters\n",
    "    W1 = parameters['W1']\n",
    "    b1 = parameters['b1']\n",
    "    W2 = parameters['W2']\n",
    "    b2 = parameters['b2']\n",
    "    \n",
    "    costs = [] # Save Cost at every epoch\n",
    "    \n",
    "    # Implement Gradient Descent with iterations\n",
    "\n",
    "    for i in range(0, epochs):\n",
    "         \n",
    "        # Forward Propagation\n",
    "        forwards = forward_propagation(X, parameters)\n",
    "        A2 = forwards['A2']\n",
    "        \n",
    "        # Compute Cost\n",
    "        cost = compute_cost(A2, Y)\n",
    " \n",
    "        # Backpropagation to calculate the Gradients\n",
    "        grads = back_propagation(parameters, forwards, X, Y)\n",
    " \n",
    "        # Update the parameters\n",
    "        parameters = update_parameters(parameters, grads, alpha)\n",
    "        \n",
    "        # Print the cost every 1000 iterations\n",
    "        if i % 1000 == 0:\n",
    "            print (\"Cost after %i epoch: %f\" % (i, cost))\n",
    "        \n",
    "        costs.append(cost)\n",
    "    \n",
    "    # plot the cost\n",
    "    plt.plot(costs)\n",
    "    plt.ylabel('cost')\n",
    "    plt.xlabel('epochs')\n",
    "    plt.title(\"Trend in Costs\")\n",
    "    plt.show()\n",
    "\n",
    "    return parameters\n",
    "\n",
    "def predict(parameters, X):\n",
    "    \n",
    "    # Predict with forward propagation\n",
    "    forwards = forward_propagation(X, parameters)\n",
    "    A2 = forwards['A2']\n",
    "    predictions = np.round(A2)\n",
    "    \n",
    "    return predictions\n"
   ]
  },
  {
   "cell_type": "markdown",
   "metadata": {},
   "source": [
    "### Part II\n",
    "#### Data Preparation & Testing On a Simple Data Set \n",
    "#### The data can be classified with a simple non Linear Boundary"
   ]
  },
  {
   "cell_type": "markdown",
   "metadata": {},
   "source": [
    "#### Prepare the data"
   ]
  },
  {
   "cell_type": "code",
   "execution_count": 3,
   "metadata": {},
   "outputs": [],
   "source": [
    "# Use pandas to read the CSV file as a dataframe\n",
    "df = pd.read_csv(\"circles500.csv\")\n",
    "\n",
    "# The y values are those labelled 'Class': extract their values\n",
    "Y = df['Class'].values\n",
    "\n",
    "# The x values are all other columns\n",
    "del df['Class']    # drop the 'Class' column from the dataframe\n",
    "\n",
    "X = df.values"
   ]
  },
  {
   "cell_type": "code",
   "execution_count": 4,
   "metadata": {},
   "outputs": [
    {
     "name": "stdout",
     "output_type": "stream",
     "text": [
      "(500, 2)\n",
      "(500,)\n",
      "(500, 1)\n"
     ]
    }
   ],
   "source": [
    "print(X.shape)\n",
    "print(Y.shape)\n",
    "Y = Y.reshape(500,1)\n",
    "print(Y.shape)"
   ]
  },
  {
   "cell_type": "code",
   "execution_count": 5,
   "metadata": {},
   "outputs": [],
   "source": [
    "# Split the data into train and test set\n",
    "X_train, X_test, y_train, y_test = train_test_split(\n",
    "    X, Y, test_size=0.33, random_state=42)"
   ]
  },
  {
   "cell_type": "code",
   "execution_count": 6,
   "metadata": {},
   "outputs": [
    {
     "name": "stdout",
     "output_type": "stream",
     "text": [
      "(2, 335)\n",
      "(1, 335)\n"
     ]
    }
   ],
   "source": [
    "# Transpose to get in required form \n",
    "X_train =np.transpose(X_train)\n",
    "y_train = y_train.reshape(len(y_train),1)\n",
    "y_train =np.transpose(y_train)\n",
    "\n",
    "\n",
    "X_test =np.transpose(X_test)\n",
    "y_test = y_test.reshape(len(y_test),1)\n",
    "y_test = np.transpose(y_test)\n",
    "\n",
    "print(X_train.shape)\n",
    "print(y_train.shape)"
   ]
  },
  {
   "cell_type": "markdown",
   "metadata": {},
   "source": [
    "#### Train the Model\n",
    "    - Hidden Layer - 1 with 4 neurons\n",
    "    - Epoch 10k\n",
    "    - Learning Rate 1.2"
   ]
  },
  {
   "cell_type": "code",
   "execution_count": 7,
   "metadata": {},
   "outputs": [
    {
     "name": "stdout",
     "output_type": "stream",
     "text": [
      "Cost after 0 epoch: 0.693143\n",
      "Cost after 1000 epoch: 0.054947\n",
      "Cost after 2000 epoch: 0.028863\n",
      "Cost after 3000 epoch: 0.020511\n",
      "Cost after 4000 epoch: 0.016280\n",
      "Cost after 5000 epoch: 0.013671\n",
      "Cost after 6000 epoch: 0.011878\n",
      "Cost after 7000 epoch: 0.010556\n",
      "Cost after 8000 epoch: 0.009536\n",
      "Cost after 9000 epoch: 0.008720\n"
     ]
    },
    {
     "data": {
      "image/png": "[encoded data removed]",
      "text/plain": [
       "<Figure size 432x288 with 1 Axes>"
      ]
     },
     "metadata": {},
     "output_type": "display_data"
    },
    {
     "name": "stdout",
     "output_type": "stream",
     "text": [
      "Total Runtime:  1716.3623046875  ms\n"
     ]
    }
   ],
   "source": [
    "t1 = time.time() * 1000\n",
    "parameters = model_1layer(X_train, y_train, h=4, epochs=10000, alpha = 1.2)\n",
    "t2 = time.time() * 1000\n",
    "print(\"Total Runtime: \",t2-t1,\" ms\")"
   ]
  },
  {
   "cell_type": "markdown",
   "metadata": {},
   "source": [
    "#### Predict"
   ]
  },
  {
   "cell_type": "code",
   "execution_count": 8,
   "metadata": {},
   "outputs": [],
   "source": [
    "# Predict \n",
    "predictions = predict(parameters, X_test)"
   ]
  },
  {
   "cell_type": "code",
   "execution_count": 9,
   "metadata": {},
   "outputs": [],
   "source": [
    "# Prepare to get the perfomance metrices\n",
    "actual = y_test.flatten()\n",
    "predicted = predictions.flatten()"
   ]
  },
  {
   "cell_type": "markdown",
   "metadata": {},
   "source": [
    "#### Confusion Materix"
   ]
  },
  {
   "cell_type": "code",
   "execution_count": 10,
   "metadata": {},
   "outputs": [
    {
     "data": {
      "text/html": [
       "<div>\n",
       "<style scoped>\n",
       "    .dataframe tbody tr th:only-of-type {\n",
       "        vertical-align: middle;\n",
       "    }\n",
       "\n",
       "    .dataframe tbody tr th {\n",
       "        vertical-align: top;\n",
       "    }\n",
       "\n",
       "    .dataframe thead th {\n",
       "        text-align: right;\n",
       "    }\n",
       "</style>\n",
       "<table border=\"1\" class=\"dataframe\">\n",
       "  <thead>\n",
       "    <tr style=\"text-align: right;\">\n",
       "      <th>Predicted</th>\n",
       "      <th>0.0</th>\n",
       "      <th>1.0</th>\n",
       "      <th>All</th>\n",
       "    </tr>\n",
       "    <tr>\n",
       "      <th>True</th>\n",
       "      <th></th>\n",
       "      <th></th>\n",
       "      <th></th>\n",
       "    </tr>\n",
       "  </thead>\n",
       "  <tbody>\n",
       "    <tr>\n",
       "      <th>0</th>\n",
       "      <td>76</td>\n",
       "      <td>0</td>\n",
       "      <td>76</td>\n",
       "    </tr>\n",
       "    <tr>\n",
       "      <th>1</th>\n",
       "      <td>0</td>\n",
       "      <td>89</td>\n",
       "      <td>89</td>\n",
       "    </tr>\n",
       "    <tr>\n",
       "      <th>All</th>\n",
       "      <td>76</td>\n",
       "      <td>89</td>\n",
       "      <td>165</td>\n",
       "    </tr>\n",
       "  </tbody>\n",
       "</table>\n",
       "</div>"
      ],
      "text/plain": [
       "Predicted  0.0  1.0  All\n",
       "True                    \n",
       "0           76    0   76\n",
       "1            0   89   89\n",
       "All         76   89  165"
      ]
     },
     "execution_count": 10,
     "metadata": {},
     "output_type": "execute_result"
    }
   ],
   "source": [
    "import pandas as pd\n",
    "y_true = pd.Series(actual)\n",
    "y_pred = pd.Series(predicted)\n",
    "\n",
    "pd.crosstab(y_true, y_pred, rownames=['True'], colnames=['Predicted'], margins=True)"
   ]
  },
  {
   "cell_type": "markdown",
   "metadata": {},
   "source": [
    "#### Classification Report"
   ]
  },
  {
   "cell_type": "code",
   "execution_count": 11,
   "metadata": {},
   "outputs": [
    {
     "name": "stdout",
     "output_type": "stream",
     "text": [
      "               precision    recall  f1-score   support\n",
      "\n",
      "ClassNegetive       1.00      1.00      1.00        76\n",
      "ClassPositive       1.00      1.00      1.00        89\n",
      "\n",
      "  avg / total       1.00      1.00      1.00       165\n",
      "\n"
     ]
    }
   ],
   "source": [
    "print(classification_report(actual, predicted, target_names=['ClassNegetive', 'ClassPositive']))"
   ]
  },
  {
   "cell_type": "markdown",
   "metadata": {},
   "source": [
    "#### Accuracy "
   ]
  },
  {
   "cell_type": "code",
   "execution_count": 12,
   "metadata": {},
   "outputs": [
    {
     "data": {
      "text/plain": [
       "1.0"
      ]
     },
     "execution_count": 12,
     "metadata": {},
     "output_type": "execute_result"
    }
   ],
   "source": [
    "accuracy_score(actual,predicted)"
   ]
  },
  {
   "cell_type": "markdown",
   "metadata": {},
   "source": [
    "#### Observations \n",
    "* We have seen the models separates the non linear boundary perfectly \n",
    "* It gives 100 % Accuracy and the training of the data also tooks around 2 second"
   ]
  },
  {
   "cell_type": "markdown",
   "metadata": {},
   "source": [
    "### Part III\n",
    "#### Data Preparation and Testing on a complex data"
   ]
  },
  {
   "cell_type": "markdown",
   "metadata": {},
   "source": [
    "#### Prepare the data"
   ]
  },
  {
   "cell_type": "code",
   "execution_count": 13,
   "metadata": {},
   "outputs": [],
   "source": [
    "# This function taken from the CIFAR website\n",
    "\n",
    "def unpickle(file):\n",
    "    import pickle\n",
    "    with open(file, 'rb') as fo:\n",
    "        dict = pickle.load(fo, encoding='bytes')\n",
    "    return dict\n",
    "\n",
    "def loadbatch(batchname):\n",
    "    folder = 'cifar-10-batches-py'\n",
    "    batch = unpickle(folder+\"/\"+batchname)\n",
    "    return batch\n",
    "\n",
    "\n",
    "def loadlabelnames():\n",
    "    folder = 'cifar-10-batches-py'\n",
    "    meta = unpickle(folder+\"/\"+'batches.meta')\n",
    "    return meta[b'label_names']"
   ]
  },
  {
   "cell_type": "code",
   "execution_count": 14,
   "metadata": {},
   "outputs": [
    {
     "name": "stdout",
     "output_type": "stream",
     "text": [
      "Number of items in the batch is 4\n",
      "All keys in the batch: dict_keys([b'batch_label', b'labels', b'data', b'filenames'])\n",
      "size of data in this batch: 10000 , size of labels: 10000\n",
      "Shape of the data:  (10000, 3072)\n",
      "[b'airplane', b'automobile', b'bird', b'cat', b'deer', b'dog', b'frog', b'horse', b'ship', b'truck']\n"
     ]
    }
   ],
   "source": [
    "# Load the batch\n",
    "batch1 = loadbatch('data_batch_1')\n",
    "print(\"Number of items in the batch is\", len(batch1))\n",
    "\n",
    "# Display all keys, so we can see the ones we want\n",
    "print('All keys in the batch:', batch1.keys())\n",
    "\n",
    "# Extract Data\n",
    "data = batch1[b'data']\n",
    "# Extract Labels\n",
    "labels = batch1[b'labels']\n",
    "print (\"size of data in this batch:\", len(data), \", size of labels:\", len(labels))\n",
    "print(\"Shape of the data: \" ,data.shape)\n",
    "print(loadlabelnames())"
   ]
  },
  {
   "cell_type": "code",
   "execution_count": 15,
   "metadata": {},
   "outputs": [
    {
     "data": {
      "image/png": "[encoded data removed]",
      "text/plain": [
       "<Figure size 72x72 with 1 Axes>"
      ]
     },
     "metadata": {},
     "output_type": "display_data"
    }
   ],
   "source": [
    "# Extract Labels\n",
    "lab = np.array(labels)\n",
    "# Reshape Label Matrix\n",
    "lab = lab.reshape(10000,1)\n",
    "# Append Data with Label\n",
    "data_with_label = np.append(data, lab, axis=1)\n",
    "d = data_with_label\n",
    "# Take the data only belongs to Aeroplane and Bird\n",
    "d = d[np.logical_or(d[:,3072] == 0, d[:,3072] == 2 )]\n",
    "\n",
    "# Draw a sample in Red Scale\n",
    "pic1 = d[58,0:1024].astype(np.uint8)\n",
    "pic1.shape = (32,32)\n",
    "plt.figure(figsize=(1,1))\n",
    "plt.imshow(pic1)\n",
    "plt.show()"
   ]
  },
  {
   "cell_type": "code",
   "execution_count": 16,
   "metadata": {},
   "outputs": [
    {
     "data": {
      "image/png": "[encoded data removed]",
      "text/plain": [
       "<Figure size 72x72 with 1 Axes>"
      ]
     },
     "metadata": {},
     "output_type": "display_data"
    }
   ],
   "source": [
    "# Draw a sample in Red Scale\n",
    "pic1 = d[55,0:1024].astype(np.uint8)\n",
    "pic1.shape = (32,32)\n",
    "plt.figure(figsize=(1,1))\n",
    "plt.imshow(pic1)\n",
    "plt.show()"
   ]
  },
  {
   "cell_type": "markdown",
   "metadata": {},
   "source": [
    "* Here we are only taking the red band\n",
    "* We are also normalizing the data before processing"
   ]
  },
  {
   "cell_type": "code",
   "execution_count": 17,
   "metadata": {},
   "outputs": [
    {
     "name": "stdout",
     "output_type": "stream",
     "text": [
      "(1024, 1364)\n",
      "(1, 1364)\n",
      "(1024, 673)\n",
      "(1, 673)\n"
     ]
    }
   ],
   "source": [
    "# Take the first 1024 (Red Band Data)\n",
    "X = d[:,0:1024]\n",
    "# Take the Corresponding Label\n",
    "Y = d[:,3072:3073]\n",
    "\n",
    "# Modify the label as 1 for Bird as it has 2 as label by default\n",
    "Y[Y==2] = 1\n",
    "\n",
    "X_train, X_test, y_train, y_test = train_test_split(\n",
    "    X, Y, test_size=0.33, random_state=42)\n",
    "\n",
    "# Transpose the data to make it in input format\n",
    "X_train = np.transpose(X_train)\n",
    "X_test = np.transpose(X_test)\n",
    "y_train = np.transpose(y_train)\n",
    "y_test = np.transpose(y_test)\n",
    "\n",
    "# Normalise the data \n",
    "X_train = X_train/255\n",
    "X_test = X_test/255\n",
    "\n",
    "# Check the Shape \n",
    "print(X_train.shape)\n",
    "print(y_train.shape)\n",
    "print(X_test.shape)\n",
    "print(y_test.shape)"
   ]
  },
  {
   "cell_type": "markdown",
   "metadata": {},
   "source": [
    "#### Train the Model\n",
    "    - Hidden Layer 1 with 50 neurons\n",
    "    - Epochs 20k"
   ]
  },
  {
   "cell_type": "code",
   "execution_count": 18,
   "metadata": {},
   "outputs": [
    {
     "name": "stdout",
     "output_type": "stream",
     "text": [
      "Cost after 0 epoch: 0.693615\n",
      "Cost after 1000 epoch: 0.685807\n",
      "Cost after 2000 epoch: 0.674104\n",
      "Cost after 3000 epoch: 0.664646\n",
      "Cost after 4000 epoch: 0.651792\n",
      "Cost after 5000 epoch: 0.634573\n",
      "Cost after 6000 epoch: 0.615169\n",
      "Cost after 7000 epoch: 0.595187\n",
      "Cost after 8000 epoch: 0.574745\n",
      "Cost after 9000 epoch: 0.554152\n",
      "Cost after 10000 epoch: 0.533218\n",
      "Cost after 11000 epoch: 0.511133\n",
      "Cost after 12000 epoch: 0.486636\n",
      "Cost after 13000 epoch: 0.460727\n",
      "Cost after 14000 epoch: 0.435178\n",
      "Cost after 15000 epoch: 0.425026\n",
      "Cost after 16000 epoch: 0.405643\n",
      "Cost after 17000 epoch: 0.387806\n",
      "Cost after 18000 epoch: 0.370778\n",
      "Cost after 19000 epoch: 0.354141\n"
     ]
    },
    {
     "data": {
      "image/png": "[encoded data removed]",
      "text/plain": [
       "<Figure size 432x288 with 1 Axes>"
      ]
     },
     "metadata": {},
     "output_type": "display_data"
    },
    {
     "name": "stdout",
     "output_type": "stream",
     "text": [
      "Total Runtime:  194964.75366210938  ms\n"
     ]
    }
   ],
   "source": [
    "t1 = time.time() * 1000\n",
    "# Train the model\n",
    "parameters = model_1layer(X_train, y_train, h = 50, epochs=20000, alpha = 0.0075)\n",
    "t2 = time.time() * 1000\n",
    "print(\"Total Runtime: \",t2-t1,\" ms\")"
   ]
  },
  {
   "cell_type": "markdown",
   "metadata": {},
   "source": [
    "#### Predict"
   ]
  },
  {
   "cell_type": "code",
   "execution_count": 19,
   "metadata": {},
   "outputs": [],
   "source": [
    "# Predict \n",
    "predictions = predict(parameters, X_test)"
   ]
  },
  {
   "cell_type": "code",
   "execution_count": 20,
   "metadata": {},
   "outputs": [],
   "source": [
    "# Prepare to get the perfomance metrices\n",
    "actual = y_test.flatten()\n",
    "predicted = predictions.flatten()"
   ]
  },
  {
   "cell_type": "markdown",
   "metadata": {},
   "source": [
    "#### Confusion Materix"
   ]
  },
  {
   "cell_type": "code",
   "execution_count": 21,
   "metadata": {},
   "outputs": [
    {
     "data": {
      "text/html": [
       "<div>\n",
       "<style scoped>\n",
       "    .dataframe tbody tr th:only-of-type {\n",
       "        vertical-align: middle;\n",
       "    }\n",
       "\n",
       "    .dataframe tbody tr th {\n",
       "        vertical-align: top;\n",
       "    }\n",
       "\n",
       "    .dataframe thead th {\n",
       "        text-align: right;\n",
       "    }\n",
       "</style>\n",
       "<table border=\"1\" class=\"dataframe\">\n",
       "  <thead>\n",
       "    <tr style=\"text-align: right;\">\n",
       "      <th>Predicted</th>\n",
       "      <th>0.0</th>\n",
       "      <th>1.0</th>\n",
       "      <th>All</th>\n",
       "    </tr>\n",
       "    <tr>\n",
       "      <th>True</th>\n",
       "      <th></th>\n",
       "      <th></th>\n",
       "      <th></th>\n",
       "    </tr>\n",
       "  </thead>\n",
       "  <tbody>\n",
       "    <tr>\n",
       "      <th>0</th>\n",
       "      <td>174</td>\n",
       "      <td>147</td>\n",
       "      <td>321</td>\n",
       "    </tr>\n",
       "    <tr>\n",
       "      <th>1</th>\n",
       "      <td>92</td>\n",
       "      <td>260</td>\n",
       "      <td>352</td>\n",
       "    </tr>\n",
       "    <tr>\n",
       "      <th>All</th>\n",
       "      <td>266</td>\n",
       "      <td>407</td>\n",
       "      <td>673</td>\n",
       "    </tr>\n",
       "  </tbody>\n",
       "</table>\n",
       "</div>"
      ],
      "text/plain": [
       "Predicted  0.0  1.0  All\n",
       "True                    \n",
       "0          174  147  321\n",
       "1           92  260  352\n",
       "All        266  407  673"
      ]
     },
     "execution_count": 21,
     "metadata": {},
     "output_type": "execute_result"
    }
   ],
   "source": [
    "import pandas as pd\n",
    "y_true = pd.Series(actual)\n",
    "y_pred = pd.Series(predicted)\n",
    "\n",
    "pd.crosstab(y_true, y_pred, rownames=['True'], colnames=['Predicted'], margins=True)"
   ]
  },
  {
   "cell_type": "markdown",
   "metadata": {},
   "source": [
    "#### Classification Report"
   ]
  },
  {
   "cell_type": "code",
   "execution_count": 22,
   "metadata": {},
   "outputs": [
    {
     "name": "stdout",
     "output_type": "stream",
     "text": [
      "               precision    recall  f1-score   support\n",
      "\n",
      "ClassNegetive       0.65      0.54      0.59       321\n",
      "ClassPositive       0.64      0.74      0.69       352\n",
      "\n",
      "  avg / total       0.65      0.64      0.64       673\n",
      "\n"
     ]
    }
   ],
   "source": [
    "print(classification_report(actual, predicted, target_names=['ClassNegetive', 'ClassPositive']))"
   ]
  },
  {
   "cell_type": "markdown",
   "metadata": {},
   "source": [
    "#### Accuracy "
   ]
  },
  {
   "cell_type": "code",
   "execution_count": 23,
   "metadata": {},
   "outputs": [
    {
     "data": {
      "text/plain": [
       "0.6448736998514116"
      ]
     },
     "execution_count": 23,
     "metadata": {},
     "output_type": "execute_result"
    }
   ],
   "source": [
    "accuracy_score(actual,predicted)"
   ]
  },
  {
   "cell_type": "markdown",
   "metadata": {},
   "source": [
    "#### Observations:\n",
    "* We have found in the larger complex dataset the single layer neural network not perform well and gives an accuracy of 65%\n",
    "* Though tuning the hyperparametrs may improve the performance as we have seen the cost is still converging after 20k epoch"
   ]
  },
  {
   "cell_type": "markdown",
   "metadata": {},
   "source": [
    "### Part IV"
   ]
  },
  {
   "cell_type": "markdown",
   "metadata": {},
   "source": [
    "#### Adding a Deep Layer (additional hidden layer)\n",
    "\n",
    "#### Enhancement \n",
    "\n",
    "* I have changed the activation function from tanh to ReLU as ReLU is computationally less expensive and works much faster than tanh\n",
    "* I have also added an additional hidden layer to the network to make the model as deep neural network\n",
    "* While initializing the weight I have normalised them with respect to the previous layer weight\n",
    "* Using ReLU and the normalization during weight initialization will reduce the chance of getting into the vanishing or exploding gradient issue\n",
    "* Implementation of forward and back propagation will remain same from part I, only the tanh activation function is replaced by ReLU \n",
    "* As I have used RELU following is the implementation of RELU\n",
    "$$ ReLU(x)=max(0,x)  $$\n",
    "* Implementation of derivative of ReLU Function \n",
    "$$ {f}'(ReLU(x)) =\\left\\{\\begin{array}{ll}1  & \\mbox{if } x >  0 \\\\0 & \\mbox{if } x \\leqslant  0\\end{array}\\right.$$ \n",
    "\n",
    "\n",
    "* So during back propagation I have passed the activation output when x is greater than zero"
   ]
  },
  {
   "cell_type": "markdown",
   "metadata": {},
   "source": [
    "#### Implementation"
   ]
  },
  {
   "cell_type": "code",
   "execution_count": 24,
   "metadata": {},
   "outputs": [],
   "source": [
    "# relu implementation\n",
    "def relu(x):\n",
    "    s = np.maximum(0,x)\n",
    "    return s\n",
    "\n",
    "# Dynamically Initialise the parameters\n",
    "def initialize_parameters_3layer(layers):\n",
    "    \n",
    "    # size of each layer including input and output \n",
    "    # as an array\n",
    "\n",
    "    parameters = {}\n",
    "    L = len(layers) \n",
    "    \n",
    "    for i in range(L-1):\n",
    "        # Update weight with weight Normalization\n",
    "        parameters[\"W\" + str(i+1)] = np.random.randn(layers[i+1], layers[i]) / np.sqrt(layers[i])\n",
    "        parameters[\"b\" + str(i+1)] = np.zeros((layers[i+1], 1));\n",
    "\n",
    "    return parameters\n",
    "\n",
    "\n",
    "def forward_propagation_3layer(X, parameters):\n",
    "\n",
    "    # retrieve parameters\n",
    "    W1 = parameters[\"W1\"]\n",
    "    b1 = parameters[\"b1\"]\n",
    "    W2 = parameters[\"W2\"]\n",
    "    b2 = parameters[\"b2\"]\n",
    "    W3 = parameters[\"W3\"]\n",
    "    b3 = parameters[\"b3\"]\n",
    "\n",
    "    # layer 1\n",
    "    Z1 = np.dot(W1, X) + b1\n",
    "    A1 = relu(Z1)\n",
    "    # Layer 2\n",
    "    Z2 = np.dot(W2, A1) + b2\n",
    "    A2 = relu(Z2)\n",
    "    # Layer 3\n",
    "    Z3 = np.dot(W3, A2) + b3\n",
    "    A3 = sigmoid(Z3)\n",
    "\n",
    "    # Required For Back Propagation\n",
    "    forward = (Z1, A1, W1, b1, Z2, A2, W2, b2, Z3, A3, W3, b3)\n",
    "\n",
    "    return forward\n",
    "\n",
    "def back_propagation_3layer(X, Y, forward):\n",
    "\n",
    "    (Z1, A1, W1, b1, Z2, A2, W2, b2, Z3, A3, W3, b3) = forward\n",
    "\n",
    "    m = X.shape[1]\n",
    "    \n",
    "    # Layer 3\n",
    "    dZ3 = 1./m * (A3 - Y) \n",
    "    dW3 = np.dot(dZ3, A2.T)\n",
    "    db3 = np.sum(dZ3, axis=1, keepdims = True)\n",
    "\n",
    "    # Layer 2\n",
    "    dA2 = np.dot(W3.T, dZ3)\n",
    "    dZ2 = np.multiply(dA2, np.int64(A2 > 0)) # considering the derivative of relu\n",
    "    dW2 = np.dot(dZ2, A1.T)\n",
    "    db2 = np.sum(dZ2, axis=1, keepdims = True)\n",
    "\n",
    "    # Layer 1\n",
    "    dA1 = np.dot(W2.T, dZ2)\n",
    "    dZ1 = np.multiply(dA1, np.int64(A1 > 0)) # considering the derivative of relu\n",
    "    dW1 = np.dot(dZ1, X.T)\n",
    "    db1 = np.sum(dZ1, axis=1, keepdims = True)\n",
    "\n",
    "    gradients = {\"dW3\": dW3, \"db3\": db3,\n",
    "                 \"dW2\": dW2, \"db2\": db2,\n",
    "                 \"dW1\": dW1, \"db1\": db1}\n",
    "\n",
    "    return gradients\n",
    "\n",
    "# Dynamically update the parameters\n",
    "def update_parameters_3layer(parameters, grads, alpha):\n",
    "\n",
    "    # Number of layers\n",
    "    L = len(parameters) // 2 \n",
    "\n",
    "    # Update Parameters\n",
    "    for i in range(L):\n",
    "        parameters[\"W\" + str(i+1)] = parameters[\"W\" + str(i+1)] - alpha * grads[\"dW\" + str(i+1)]\n",
    "        parameters[\"b\" + str(i+1)] = parameters[\"b\" + str(i+1)] - alpha * grads[\"db\" + str(i+1)]\n",
    "\n",
    "    return parameters\n",
    "\n",
    "\n"
   ]
  },
  {
   "cell_type": "code",
   "execution_count": 25,
   "metadata": {},
   "outputs": [],
   "source": [
    "def model_3layer(X, Y, alpha = 0.01, epochs = 10000, h1=10, h2=5):\n",
    "   \n",
    "    grads = {}\n",
    "    costs = [] # to keep track of the loss\n",
    "\n",
    "    layers = [X.shape[0], h1, h2, 1]\n",
    "\n",
    "    # Initialize parameters dictionary.\n",
    "    parameters = initialize_parameters_3layer(layers)\n",
    "\n",
    "    # Loop (gradient descent)\n",
    "\n",
    "    for i in range(epochs):\n",
    "\n",
    "        # Forward propagation\n",
    "        forward = forward_propagation_3layer(X, parameters)\n",
    "        \n",
    "        (Z1, A1, W1, b1, Z2, A2, W2, b2, Z3, A3, W3, b3) = forward\n",
    "        \n",
    "        # Loss\n",
    "        cost = compute_cost(A3, Y)\n",
    "\n",
    "        # Backward propagation.\n",
    "        gradients = back_propagation_3layer(X, Y, forward)\n",
    "\n",
    "        # Update parameters.\n",
    "        parameters = update_parameters_3layer(parameters, gradients, alpha)\n",
    "\n",
    "        # Print loss every 1000 epochs\n",
    "        if i % 1000 == 0:\n",
    "            print(\"Cost after iteration {}: {}\".format(i, cost))\n",
    "            costs.append(cost)\n",
    "\n",
    "    # plot the loss\n",
    "    plt.plot(costs)\n",
    "    plt.ylabel('cost')\n",
    "    plt.xlabel('epochs(1000s)')\n",
    "    plt.title(\"Learning rate =\" + str(alpha))\n",
    "    plt.show()\n",
    "\n",
    "    return parameters"
   ]
  },
  {
   "cell_type": "code",
   "execution_count": 26,
   "metadata": {},
   "outputs": [],
   "source": [
    "def predict_3layer(parameters, X):\n",
    "    \n",
    "    # Predict with forward propagation\n",
    "    forwards = forward_propagation_3layer(X, parameters)\n",
    "    (Z1, A1, W1, b1, Z2, A2, W2, b2, Z3, A3, W3, b3) = forwards\n",
    "    predictions = np.round(A3)\n",
    "    \n",
    "    return predictions"
   ]
  },
  {
   "cell_type": "markdown",
   "metadata": {},
   "source": [
    "#### Data Preparation\n",
    "* This time I am using all the 3 bands simultaneously as I have found its giving high performance than a single colort channel "
   ]
  },
  {
   "cell_type": "code",
   "execution_count": 27,
   "metadata": {},
   "outputs": [
    {
     "name": "stdout",
     "output_type": "stream",
     "text": [
      "(3072, 1364)\n",
      "(1, 1364)\n",
      "(3072, 673)\n",
      "(1, 673)\n"
     ]
    }
   ],
   "source": [
    "# Take all the three band data\n",
    "X1 = d[:,0:3072]\n",
    "# Take the Corresponding Label\n",
    "Y1 = d[:,3072:3073]\n",
    "\n",
    "# Modify the label as 1 for Bird as it has 2 as label by default\n",
    "Y1[Y1==2] = 1\n",
    "\n",
    "X_train1, X_test1, y_train1, y_test1 = train_test_split(\n",
    "    X1, Y1, test_size=0.33, random_state=42)\n",
    "\n",
    "# Transpose the data to make it in input format\n",
    "X_train1 = np.transpose(X_train1)\n",
    "X_test1 = np.transpose(X_test1)\n",
    "y_train1 = np.transpose(y_train1)\n",
    "y_test1 = np.transpose(y_test1)\n",
    "\n",
    "# Normalise the data \n",
    "X_train1 = X_train1/255\n",
    "X_test1 = X_test1/255\n",
    "\n",
    "# Check the Shape \n",
    "print(X_train1.shape)\n",
    "print(y_train1.shape)\n",
    "print(X_test1.shape)\n",
    "print(y_test1.shape)\n"
   ]
  },
  {
   "cell_type": "markdown",
   "metadata": {},
   "source": [
    "#### Training the Model"
   ]
  },
  {
   "cell_type": "code",
   "execution_count": 29,
   "metadata": {},
   "outputs": [
    {
     "name": "stdout",
     "output_type": "stream",
     "text": [
      "Cost after iteration 0: 0.7056814849641672\n",
      "Cost after iteration 1000: 0.41652622344757906\n",
      "Cost after iteration 2000: 0.37031977251076903\n",
      "Cost after iteration 3000: 0.3107490649563497\n",
      "Cost after iteration 4000: 0.26473054382449795\n",
      "Cost after iteration 5000: 0.20127408863086554\n",
      "Cost after iteration 6000: 0.14119055283716955\n",
      "Cost after iteration 7000: 0.08767330487716246\n",
      "Cost after iteration 8000: 0.056395417067034624\n",
      "Cost after iteration 9000: 0.04142099729807579\n",
      "Cost after iteration 10000: 0.031340982354254296\n",
      "Cost after iteration 11000: 0.02381962446376794\n"
     ]
    },
    {
     "data": {
      "image/png": "[encoded data removed]",
      "text/plain": [
       "<Figure size 432x288 with 1 Axes>"
      ]
     },
     "metadata": {},
     "output_type": "display_data"
    },
    {
     "name": "stdout",
     "output_type": "stream",
     "text": [
      "Total Runtime:  479240.9626464844  ms\n"
     ]
    }
   ],
   "source": [
    "t1 = time.time() * 1000\n",
    "parameters_3l = model_3layer(X_train1, y_train1, alpha = 0.0075, epochs = 12000, \n",
    "                   h1=124,h2=10)\n",
    "t2 = time.time() * 1000\n",
    "print(\"Total Runtime: \",t2-t1,\" ms\")"
   ]
  },
  {
   "cell_type": "markdown",
   "metadata": {},
   "source": [
    "#### Predict"
   ]
  },
  {
   "cell_type": "code",
   "execution_count": 30,
   "metadata": {},
   "outputs": [],
   "source": [
    "# Predict \n",
    "predictions_3l = predict_3layer(parameters_3l, X_test1)"
   ]
  },
  {
   "cell_type": "code",
   "execution_count": 31,
   "metadata": {},
   "outputs": [],
   "source": [
    "# Prepare to get the perfomance metrices\n",
    "actual_3l = y_test1.flatten()\n",
    "predicted_3l = predictions_3l.flatten()"
   ]
  },
  {
   "cell_type": "markdown",
   "metadata": {},
   "source": [
    "#### Confusion Materix"
   ]
  },
  {
   "cell_type": "code",
   "execution_count": 32,
   "metadata": {},
   "outputs": [
    {
     "data": {
      "text/html": [
       "<div>\n",
       "<style scoped>\n",
       "    .dataframe tbody tr th:only-of-type {\n",
       "        vertical-align: middle;\n",
       "    }\n",
       "\n",
       "    .dataframe tbody tr th {\n",
       "        vertical-align: top;\n",
       "    }\n",
       "\n",
       "    .dataframe thead th {\n",
       "        text-align: right;\n",
       "    }\n",
       "</style>\n",
       "<table border=\"1\" class=\"dataframe\">\n",
       "  <thead>\n",
       "    <tr style=\"text-align: right;\">\n",
       "      <th>Predicted</th>\n",
       "      <th>0.0</th>\n",
       "      <th>1.0</th>\n",
       "      <th>All</th>\n",
       "    </tr>\n",
       "    <tr>\n",
       "      <th>True</th>\n",
       "      <th></th>\n",
       "      <th></th>\n",
       "      <th></th>\n",
       "    </tr>\n",
       "  </thead>\n",
       "  <tbody>\n",
       "    <tr>\n",
       "      <th>0</th>\n",
       "      <td>257</td>\n",
       "      <td>64</td>\n",
       "      <td>321</td>\n",
       "    </tr>\n",
       "    <tr>\n",
       "      <th>1</th>\n",
       "      <td>59</td>\n",
       "      <td>293</td>\n",
       "      <td>352</td>\n",
       "    </tr>\n",
       "    <tr>\n",
       "      <th>All</th>\n",
       "      <td>316</td>\n",
       "      <td>357</td>\n",
       "      <td>673</td>\n",
       "    </tr>\n",
       "  </tbody>\n",
       "</table>\n",
       "</div>"
      ],
      "text/plain": [
       "Predicted  0.0  1.0  All\n",
       "True                    \n",
       "0          257   64  321\n",
       "1           59  293  352\n",
       "All        316  357  673"
      ]
     },
     "execution_count": 32,
     "metadata": {},
     "output_type": "execute_result"
    }
   ],
   "source": [
    "y_true = pd.Series(actual_3l)\n",
    "y_pred = pd.Series(predicted_3l)\n",
    "\n",
    "pd.crosstab(y_true, y_pred, rownames=['True'], colnames=['Predicted'], margins=True)"
   ]
  },
  {
   "cell_type": "markdown",
   "metadata": {},
   "source": [
    "#### Classification Report"
   ]
  },
  {
   "cell_type": "code",
   "execution_count": 33,
   "metadata": {},
   "outputs": [
    {
     "name": "stdout",
     "output_type": "stream",
     "text": [
      "               precision    recall  f1-score   support\n",
      "\n",
      "ClassNegetive       0.81      0.80      0.81       321\n",
      "ClassPositive       0.82      0.83      0.83       352\n",
      "\n",
      "  avg / total       0.82      0.82      0.82       673\n",
      "\n"
     ]
    }
   ],
   "source": [
    "print(classification_report(actual_3l, predicted_3l, target_names=['ClassNegetive', 'ClassPositive']))"
   ]
  },
  {
   "cell_type": "markdown",
   "metadata": {},
   "source": [
    "#### Accuracy "
   ]
  },
  {
   "cell_type": "code",
   "execution_count": 34,
   "metadata": {},
   "outputs": [
    {
     "data": {
      "text/plain": [
       "0.8172362555720654"
      ]
     },
     "execution_count": 34,
     "metadata": {},
     "output_type": "execute_result"
    }
   ],
   "source": [
    "accuracy_score(actual_3l,predicted_3l)"
   ]
  },
  {
   "cell_type": "markdown",
   "metadata": {},
   "source": [
    "#### Observations:\n",
    "* We have found that after increasing the number of hidden layer from one to two and using ReLU as the activation function the performance and accuracy has increased significantly\n",
    "* So as a further improement scope we can make this implemenation dynamic and increase the hidden layer further which can improve the accuracy\n"
   ]
  },
  {
   "cell_type": "markdown",
   "metadata": {},
   "source": [
    "### References\n",
    "\n",
    "* One Hidden Layer Neural Network. (n.d.). Retrieved from https://cs230.stanford.edu/files/C1M3.pdf\n",
    "* Deep Neural Networks. (n.d.). Retrieved from http://cs230.stanford.edu/files/C1M4.pdf\n",
    "* Neural Networks and Deep Learning. (n.d.). Retrieved from https://www.coursera.org/learn/neural-networks-deep-learning/home/welcome\n",
    "* User3378649user3378649 4373721, Achennuachennu 53145, AkavallAkavall 1, & PranzellPranzell 1112. (n.d.). How can I interpret Sklearn confusion matrix. Retrieved from https://stats.stackexchange.com/questions/95209/how-can-i-interpret-sklearn-confusion-matrix"
   ]
  }
 ],
 "metadata": {
  "kernelspec": {
   "display_name": "Python 3",
   "language": "python",
   "name": "python3"
  },
  "language_info": {
   "codemirror_mode": {
    "name": "ipython",
    "version": 3
   },
   "file_extension": ".py",
   "mimetype": "text/x-python",
   "name": "python",
   "nbconvert_exporter": "python",
   "pygments_lexer": "ipython3",
   "version": "3.6.5"
  }
 },
 "nbformat": 4,
 "nbformat_minor": 2
}
